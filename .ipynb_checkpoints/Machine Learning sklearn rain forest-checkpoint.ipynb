{
 "cells": [
  {
   "cell_type": "code",
   "execution_count": 2,
   "id": "a0cc8284",
   "metadata": {},
   "outputs": [],
   "source": [
    "import numpy as np\n",
    "import pandas as pd\n",
    "from pathlib import Path\n",
    "from datetime import date\n",
    "import matplotlib.pyplot as plt\n",
    "import talib"
   ]
  },
  {
   "cell_type": "code",
   "execution_count": 3,
   "id": "ecf0faf5",
   "metadata": {},
   "outputs": [],
   "source": [
    "from sklearn import metrics\n",
    "from sklearn.ensemble import RandomForestRegressor\n",
    "from sklearn.model_selection import ParameterGrid"
   ]
  },
  {
   "cell_type": "code",
   "execution_count": 4,
   "id": "9b5d3dd6",
   "metadata": {},
   "outputs": [
    {
     "name": "stdout",
     "output_type": "stream",
     "text": [
      "[*********************100%***********************]  1 of 1 completed\n"
     ]
    },
    {
     "data": {
      "text/html": [
       "<div>\n",
       "<style scoped>\n",
       "    .dataframe tbody tr th:only-of-type {\n",
       "        vertical-align: middle;\n",
       "    }\n",
       "\n",
       "    .dataframe tbody tr th {\n",
       "        vertical-align: top;\n",
       "    }\n",
       "\n",
       "    .dataframe thead th {\n",
       "        text-align: right;\n",
       "    }\n",
       "</style>\n",
       "<table border=\"1\" class=\"dataframe\">\n",
       "  <thead>\n",
       "    <tr style=\"text-align: right;\">\n",
       "      <th></th>\n",
       "      <th>Open</th>\n",
       "      <th>High</th>\n",
       "      <th>Low</th>\n",
       "      <th>Close</th>\n",
       "      <th>Adj Close</th>\n",
       "      <th>Volume</th>\n",
       "    </tr>\n",
       "    <tr>\n",
       "      <th>Date</th>\n",
       "      <th></th>\n",
       "      <th></th>\n",
       "      <th></th>\n",
       "      <th></th>\n",
       "      <th></th>\n",
       "      <th></th>\n",
       "    </tr>\n",
       "  </thead>\n",
       "  <tbody>\n",
       "    <tr>\n",
       "      <th>2019-01-02</th>\n",
       "      <td>1465.199951</td>\n",
       "      <td>1553.359985</td>\n",
       "      <td>1460.930054</td>\n",
       "      <td>1539.130005</td>\n",
       "      <td>1539.130005</td>\n",
       "      <td>7983100</td>\n",
       "    </tr>\n",
       "    <tr>\n",
       "      <th>2019-01-03</th>\n",
       "      <td>1520.010010</td>\n",
       "      <td>1538.000000</td>\n",
       "      <td>1497.109985</td>\n",
       "      <td>1500.280029</td>\n",
       "      <td>1500.280029</td>\n",
       "      <td>6975600</td>\n",
       "    </tr>\n",
       "    <tr>\n",
       "      <th>2019-01-04</th>\n",
       "      <td>1530.000000</td>\n",
       "      <td>1594.000000</td>\n",
       "      <td>1518.310059</td>\n",
       "      <td>1575.390015</td>\n",
       "      <td>1575.390015</td>\n",
       "      <td>9182600</td>\n",
       "    </tr>\n",
       "    <tr>\n",
       "      <th>2019-01-07</th>\n",
       "      <td>1602.310059</td>\n",
       "      <td>1634.560059</td>\n",
       "      <td>1589.189941</td>\n",
       "      <td>1629.510010</td>\n",
       "      <td>1629.510010</td>\n",
       "      <td>7993200</td>\n",
       "    </tr>\n",
       "    <tr>\n",
       "      <th>2019-01-08</th>\n",
       "      <td>1664.689941</td>\n",
       "      <td>1676.609985</td>\n",
       "      <td>1616.609985</td>\n",
       "      <td>1656.579956</td>\n",
       "      <td>1656.579956</td>\n",
       "      <td>8881400</td>\n",
       "    </tr>\n",
       "    <tr>\n",
       "      <th>...</th>\n",
       "      <td>...</td>\n",
       "      <td>...</td>\n",
       "      <td>...</td>\n",
       "      <td>...</td>\n",
       "      <td>...</td>\n",
       "      <td>...</td>\n",
       "    </tr>\n",
       "    <tr>\n",
       "      <th>2022-02-07</th>\n",
       "      <td>3170.399902</td>\n",
       "      <td>3253.820068</td>\n",
       "      <td>3145.000000</td>\n",
       "      <td>3158.709961</td>\n",
       "      <td>3158.709961</td>\n",
       "      <td>5131200</td>\n",
       "    </tr>\n",
       "    <tr>\n",
       "      <th>2022-02-08</th>\n",
       "      <td>3135.010010</td>\n",
       "      <td>3235.850098</td>\n",
       "      <td>3111.010010</td>\n",
       "      <td>3228.270020</td>\n",
       "      <td>3228.270020</td>\n",
       "      <td>3802000</td>\n",
       "    </tr>\n",
       "    <tr>\n",
       "      <th>2022-02-09</th>\n",
       "      <td>3257.469971</td>\n",
       "      <td>3276.689941</td>\n",
       "      <td>3205.000000</td>\n",
       "      <td>3223.790039</td>\n",
       "      <td>3223.790039</td>\n",
       "      <td>3439300</td>\n",
       "    </tr>\n",
       "    <tr>\n",
       "      <th>2022-02-10</th>\n",
       "      <td>3167.000000</td>\n",
       "      <td>3214.330078</td>\n",
       "      <td>3155.000000</td>\n",
       "      <td>3180.070068</td>\n",
       "      <td>3180.070068</td>\n",
       "      <td>3413400</td>\n",
       "    </tr>\n",
       "    <tr>\n",
       "      <th>2022-02-11</th>\n",
       "      <td>3162.689941</td>\n",
       "      <td>3180.000000</td>\n",
       "      <td>3054.679932</td>\n",
       "      <td>3065.870117</td>\n",
       "      <td>3065.870117</td>\n",
       "      <td>3851600</td>\n",
       "    </tr>\n",
       "  </tbody>\n",
       "</table>\n",
       "<p>786 rows × 6 columns</p>\n",
       "</div>"
      ],
      "text/plain": [
       "                   Open         High          Low        Close    Adj Close  \\\n",
       "Date                                                                          \n",
       "2019-01-02  1465.199951  1553.359985  1460.930054  1539.130005  1539.130005   \n",
       "2019-01-03  1520.010010  1538.000000  1497.109985  1500.280029  1500.280029   \n",
       "2019-01-04  1530.000000  1594.000000  1518.310059  1575.390015  1575.390015   \n",
       "2019-01-07  1602.310059  1634.560059  1589.189941  1629.510010  1629.510010   \n",
       "2019-01-08  1664.689941  1676.609985  1616.609985  1656.579956  1656.579956   \n",
       "...                 ...          ...          ...          ...          ...   \n",
       "2022-02-07  3170.399902  3253.820068  3145.000000  3158.709961  3158.709961   \n",
       "2022-02-08  3135.010010  3235.850098  3111.010010  3228.270020  3228.270020   \n",
       "2022-02-09  3257.469971  3276.689941  3205.000000  3223.790039  3223.790039   \n",
       "2022-02-10  3167.000000  3214.330078  3155.000000  3180.070068  3180.070068   \n",
       "2022-02-11  3162.689941  3180.000000  3054.679932  3065.870117  3065.870117   \n",
       "\n",
       "             Volume  \n",
       "Date                 \n",
       "2019-01-02  7983100  \n",
       "2019-01-03  6975600  \n",
       "2019-01-04  9182600  \n",
       "2019-01-07  7993200  \n",
       "2019-01-08  8881400  \n",
       "...             ...  \n",
       "2022-02-07  5131200  \n",
       "2022-02-08  3802000  \n",
       "2022-02-09  3439300  \n",
       "2022-02-10  3413400  \n",
       "2022-02-11  3851600  \n",
       "\n",
       "[786 rows x 6 columns]"
      ]
     },
     "execution_count": 4,
     "metadata": {},
     "output_type": "execute_result"
    }
   ],
   "source": [
    "import yfinance as yf\n",
    "START = \"2019-01-01\"\n",
    "TODAY = date.today().strftime(\"%Y-%m-%d\")\n",
    "ticker= \"AMZN\"\n",
    "stock_data = yf.download(ticker, start=START, end=TODAY)\n",
    "## preview data\n",
    "stock_data"
   ]
  },
  {
   "cell_type": "code",
   "execution_count": 4,
   "id": "96aa308e",
   "metadata": {},
   "outputs": [],
   "source": [
    "# Load the data  ##\"AAPL\",\"AMZN\",\"GOOG\", \"NVDA\", \"NTFX\", \"ORCL\", \"TSLA\", \"FB\", \"PFE\", \"BIIB\"\n",
    "#file_path = Path('Resources/LoanStats_2019Q1.csv')\n",
    "#df = pd.read_csv(file_path)\n",
    "\n",
    "# Preview the data\n",
    "#df.head()\n"
   ]
  },
  {
   "cell_type": "code",
   "execution_count": 5,
   "id": "16c98773",
   "metadata": {
    "scrolled": true
   },
   "outputs": [
    {
     "data": {
      "image/png": "[encoded data removed]",
      "text/plain": [
       "<Figure size 432x288 with 1 Axes>"
      ]
     },
     "metadata": {
      "needs_background": "light"
     },
     "output_type": "display_data"
    }
   ],
   "source": [
    "stock_data['Close'].plot()\n",
    "plt.ylabel(\"Close Prices\")\n",
    "plt.show()"
   ]
  },
  {
   "cell_type": "code",
   "execution_count": 6,
   "id": "913c94ec",
   "metadata": {},
   "outputs": [],
   "source": [
    "feature_names = []\n",
    "#for n in [14, 30, 50, 100, 200, 250]:\n",
    "for n in [14,30,50]:\n",
    "    stock_data['ma' + str(n)] = talib.SMA(stock_data['Close'].values, timeperiod=n)\n",
    "    stock_data['rsi' + str(n)] = talib.RSI(stock_data['Close'].values, timeperiod=n)\n",
    "\n",
    "    feature_names = feature_names + ['ma' + str(n), 'rsi' + str(n)]"
   ]
  },
  {
   "cell_type": "code",
   "execution_count": 7,
   "id": "0faceca6",
   "metadata": {},
   "outputs": [],
   "source": [
    "stock_data['Volume_1d_change'] = stock_data['Volume'].pct_change()\n",
    "\n",
    "volume_features = ['Volume_1d_change']\n",
    "feature_names.extend(volume_features)"
   ]
  },
  {
   "cell_type": "code",
   "execution_count": 8,
   "id": "ca957292",
   "metadata": {},
   "outputs": [],
   "source": [
    "stock_data['5d_future_close'] = stock_data['Close'].shift(-5)"
   ]
  },
  {
   "cell_type": "code",
   "execution_count": 9,
   "id": "a9d5fcd9",
   "metadata": {},
   "outputs": [
    {
     "data": {
      "text/html": [
       "<div>\n",
       "<style scoped>\n",
       "    .dataframe tbody tr th:only-of-type {\n",
       "        vertical-align: middle;\n",
       "    }\n",
       "\n",
       "    .dataframe tbody tr th {\n",
       "        vertical-align: top;\n",
       "    }\n",
       "\n",
       "    .dataframe thead th {\n",
       "        text-align: right;\n",
       "    }\n",
       "</style>\n",
       "<table border=\"1\" class=\"dataframe\">\n",
       "  <thead>\n",
       "    <tr style=\"text-align: right;\">\n",
       "      <th></th>\n",
       "      <th>Open</th>\n",
       "      <th>High</th>\n",
       "      <th>Low</th>\n",
       "      <th>Close</th>\n",
       "      <th>Adj Close</th>\n",
       "      <th>Volume</th>\n",
       "      <th>ma14</th>\n",
       "      <th>rsi14</th>\n",
       "      <th>ma30</th>\n",
       "      <th>rsi30</th>\n",
       "      <th>ma50</th>\n",
       "      <th>rsi50</th>\n",
       "      <th>Volume_1d_change</th>\n",
       "      <th>5d_future_close</th>\n",
       "    </tr>\n",
       "    <tr>\n",
       "      <th>Date</th>\n",
       "      <th></th>\n",
       "      <th></th>\n",
       "      <th></th>\n",
       "      <th></th>\n",
       "      <th></th>\n",
       "      <th></th>\n",
       "      <th></th>\n",
       "      <th></th>\n",
       "      <th></th>\n",
       "      <th></th>\n",
       "      <th></th>\n",
       "      <th></th>\n",
       "      <th></th>\n",
       "      <th></th>\n",
       "    </tr>\n",
       "  </thead>\n",
       "  <tbody>\n",
       "    <tr>\n",
       "      <th>2019-03-15</th>\n",
       "      <td>1703.000000</td>\n",
       "      <td>1718.800049</td>\n",
       "      <td>1693.130005</td>\n",
       "      <td>1712.359985</td>\n",
       "      <td>1712.359985</td>\n",
       "      <td>7550900</td>\n",
       "      <td>1666.175711</td>\n",
       "      <td>62.474183</td>\n",
       "      <td>1644.031665</td>\n",
       "      <td>58.591104</td>\n",
       "      <td>1644.450002</td>\n",
       "      <td>57.304411</td>\n",
       "      <td>1.562581</td>\n",
       "      <td>1764.770020</td>\n",
       "    </tr>\n",
       "    <tr>\n",
       "      <th>2019-03-18</th>\n",
       "      <td>1712.699951</td>\n",
       "      <td>1750.000000</td>\n",
       "      <td>1712.630005</td>\n",
       "      <td>1742.150024</td>\n",
       "      <td>1742.150024</td>\n",
       "      <td>5429100</td>\n",
       "      <td>1673.729283</td>\n",
       "      <td>66.475729</td>\n",
       "      <td>1647.895667</td>\n",
       "      <td>60.380014</td>\n",
       "      <td>1649.287402</td>\n",
       "      <td>58.371565</td>\n",
       "      <td>-0.281000</td>\n",
       "      <td>1774.260010</td>\n",
       "    </tr>\n",
       "    <tr>\n",
       "      <th>2019-03-19</th>\n",
       "      <td>1753.510010</td>\n",
       "      <td>1784.160034</td>\n",
       "      <td>1753.510010</td>\n",
       "      <td>1761.849976</td>\n",
       "      <td>1761.849976</td>\n",
       "      <td>6364200</td>\n",
       "      <td>1682.354998</td>\n",
       "      <td>68.841906</td>\n",
       "      <td>1652.180330</td>\n",
       "      <td>61.517321</td>\n",
       "      <td>1653.016602</td>\n",
       "      <td>59.062025</td>\n",
       "      <td>0.172238</td>\n",
       "      <td>1783.760010</td>\n",
       "    </tr>\n",
       "    <tr>\n",
       "      <th>2019-03-20</th>\n",
       "      <td>1769.939941</td>\n",
       "      <td>1799.500000</td>\n",
       "      <td>1767.030029</td>\n",
       "      <td>1797.270020</td>\n",
       "      <td>1797.270020</td>\n",
       "      <td>6265600</td>\n",
       "      <td>1693.600717</td>\n",
       "      <td>72.588141</td>\n",
       "      <td>1656.795662</td>\n",
       "      <td>63.467821</td>\n",
       "      <td>1656.371802</td>\n",
       "      <td>60.270991</td>\n",
       "      <td>-0.015493</td>\n",
       "      <td>1765.699951</td>\n",
       "    </tr>\n",
       "    <tr>\n",
       "      <th>2019-03-21</th>\n",
       "      <td>1796.260010</td>\n",
       "      <td>1823.750000</td>\n",
       "      <td>1787.280029</td>\n",
       "      <td>1819.260010</td>\n",
       "      <td>1819.260010</td>\n",
       "      <td>5767800</td>\n",
       "      <td>1704.138576</td>\n",
       "      <td>74.627736</td>\n",
       "      <td>1662.762329</td>\n",
       "      <td>64.619531</td>\n",
       "      <td>1659.625403</td>\n",
       "      <td>61.000608</td>\n",
       "      <td>-0.079450</td>\n",
       "      <td>1773.420044</td>\n",
       "    </tr>\n",
       "    <tr>\n",
       "      <th>...</th>\n",
       "      <td>...</td>\n",
       "      <td>...</td>\n",
       "      <td>...</td>\n",
       "      <td>...</td>\n",
       "      <td>...</td>\n",
       "      <td>...</td>\n",
       "      <td>...</td>\n",
       "      <td>...</td>\n",
       "      <td>...</td>\n",
       "      <td>...</td>\n",
       "      <td>...</td>\n",
       "      <td>...</td>\n",
       "      <td>...</td>\n",
       "      <td>...</td>\n",
       "    </tr>\n",
       "    <tr>\n",
       "      <th>2021-12-14</th>\n",
       "      <td>3351.000000</td>\n",
       "      <td>3389.979980</td>\n",
       "      <td>3328.800049</td>\n",
       "      <td>3381.830078</td>\n",
       "      <td>3381.830078</td>\n",
       "      <td>2798800</td>\n",
       "      <td>3471.367170</td>\n",
       "      <td>41.887917</td>\n",
       "      <td>3499.913680</td>\n",
       "      <td>47.177486</td>\n",
       "      <td>3437.216221</td>\n",
       "      <td>48.847654</td>\n",
       "      <td>-0.099630</td>\n",
       "      <td>3408.340088</td>\n",
       "    </tr>\n",
       "    <tr>\n",
       "      <th>2021-12-15</th>\n",
       "      <td>3371.959961</td>\n",
       "      <td>3472.000000</td>\n",
       "      <td>3303.899902</td>\n",
       "      <td>3466.300049</td>\n",
       "      <td>3466.300049</td>\n",
       "      <td>3789700</td>\n",
       "      <td>3463.216466</td>\n",
       "      <td>49.611488</td>\n",
       "      <td>3505.032015</td>\n",
       "      <td>50.628205</td>\n",
       "      <td>3442.122222</td>\n",
       "      <td>50.956575</td>\n",
       "      <td>0.354045</td>\n",
       "      <td>3420.739990</td>\n",
       "    </tr>\n",
       "    <tr>\n",
       "      <th>2021-12-16</th>\n",
       "      <td>3467.370117</td>\n",
       "      <td>3483.320068</td>\n",
       "      <td>3363.209961</td>\n",
       "      <td>3377.419922</td>\n",
       "      <td>3377.419922</td>\n",
       "      <td>3043800</td>\n",
       "      <td>3454.135027</td>\n",
       "      <td>43.117749</td>\n",
       "      <td>3504.812679</td>\n",
       "      <td>47.267151</td>\n",
       "      <td>3444.430420</td>\n",
       "      <td>48.796544</td>\n",
       "      <td>-0.196823</td>\n",
       "      <td>3421.370117</td>\n",
       "    </tr>\n",
       "    <tr>\n",
       "      <th>2021-12-17</th>\n",
       "      <td>3354.209961</td>\n",
       "      <td>3417.969971</td>\n",
       "      <td>3312.270020</td>\n",
       "      <td>3400.350098</td>\n",
       "      <td>3400.350098</td>\n",
       "      <td>4277100</td>\n",
       "      <td>3442.619315</td>\n",
       "      <td>45.113763</td>\n",
       "      <td>3502.257682</td>\n",
       "      <td>48.185193</td>\n",
       "      <td>3446.388823</td>\n",
       "      <td>49.361632</td>\n",
       "      <td>0.405184</td>\n",
       "      <td>3393.389893</td>\n",
       "    </tr>\n",
       "    <tr>\n",
       "      <th>2021-12-20</th>\n",
       "      <td>3337.000000</td>\n",
       "      <td>3357.489990</td>\n",
       "      <td>3312.000000</td>\n",
       "      <td>3341.580078</td>\n",
       "      <td>3341.580078</td>\n",
       "      <td>2868600</td>\n",
       "      <td>3430.798601</td>\n",
       "      <td>41.130125</td>\n",
       "      <td>3496.344019</td>\n",
       "      <td>46.059163</td>\n",
       "      <td>3447.448022</td>\n",
       "      <td>47.976882</td>\n",
       "      <td>-0.329312</td>\n",
       "      <td>3413.219971</td>\n",
       "    </tr>\n",
       "  </tbody>\n",
       "</table>\n",
       "<p>699 rows × 14 columns</p>\n",
       "</div>"
      ],
      "text/plain": [
       "                   Open         High          Low        Close    Adj Close  \\\n",
       "Date                                                                          \n",
       "2019-03-15  1703.000000  1718.800049  1693.130005  1712.359985  1712.359985   \n",
       "2019-03-18  1712.699951  1750.000000  1712.630005  1742.150024  1742.150024   \n",
       "2019-03-19  1753.510010  1784.160034  1753.510010  1761.849976  1761.849976   \n",
       "2019-03-20  1769.939941  1799.500000  1767.030029  1797.270020  1797.270020   \n",
       "2019-03-21  1796.260010  1823.750000  1787.280029  1819.260010  1819.260010   \n",
       "...                 ...          ...          ...          ...          ...   \n",
       "2021-12-14  3351.000000  3389.979980  3328.800049  3381.830078  3381.830078   \n",
       "2021-12-15  3371.959961  3472.000000  3303.899902  3466.300049  3466.300049   \n",
       "2021-12-16  3467.370117  3483.320068  3363.209961  3377.419922  3377.419922   \n",
       "2021-12-17  3354.209961  3417.969971  3312.270020  3400.350098  3400.350098   \n",
       "2021-12-20  3337.000000  3357.489990  3312.000000  3341.580078  3341.580078   \n",
       "\n",
       "             Volume         ma14      rsi14         ma30      rsi30  \\\n",
       "Date                                                                  \n",
       "2019-03-15  7550900  1666.175711  62.474183  1644.031665  58.591104   \n",
       "2019-03-18  5429100  1673.729283  66.475729  1647.895667  60.380014   \n",
       "2019-03-19  6364200  1682.354998  68.841906  1652.180330  61.517321   \n",
       "2019-03-20  6265600  1693.600717  72.588141  1656.795662  63.467821   \n",
       "2019-03-21  5767800  1704.138576  74.627736  1662.762329  64.619531   \n",
       "...             ...          ...        ...          ...        ...   \n",
       "2021-12-14  2798800  3471.367170  41.887917  3499.913680  47.177486   \n",
       "2021-12-15  3789700  3463.216466  49.611488  3505.032015  50.628205   \n",
       "2021-12-16  3043800  3454.135027  43.117749  3504.812679  47.267151   \n",
       "2021-12-17  4277100  3442.619315  45.113763  3502.257682  48.185193   \n",
       "2021-12-20  2868600  3430.798601  41.130125  3496.344019  46.059163   \n",
       "\n",
       "                   ma50      rsi50  Volume_1d_change  5d_future_close  \n",
       "Date                                                                   \n",
       "2019-03-15  1644.450002  57.304411          1.562581      1764.770020  \n",
       "2019-03-18  1649.287402  58.371565         -0.281000      1774.260010  \n",
       "2019-03-19  1653.016602  59.062025          0.172238      1783.760010  \n",
       "2019-03-20  1656.371802  60.270991         -0.015493      1765.699951  \n",
       "2019-03-21  1659.625403  61.000608         -0.079450      1773.420044  \n",
       "...                 ...        ...               ...              ...  \n",
       "2021-12-14  3437.216221  48.847654         -0.099630      3408.340088  \n",
       "2021-12-15  3442.122222  50.956575          0.354045      3420.739990  \n",
       "2021-12-16  3444.430420  48.796544         -0.196823      3421.370117  \n",
       "2021-12-17  3446.388823  49.361632          0.405184      3393.389893  \n",
       "2021-12-20  3447.448022  47.976882         -0.329312      3413.219971  \n",
       "\n",
       "[699 rows x 14 columns]"
      ]
     },
     "execution_count": 9,
     "metadata": {},
     "output_type": "execute_result"
    }
   ],
   "source": [
    "stock_data.dropna(inplace=True)\n",
    "stock_data"
   ]
  },
  {
   "cell_type": "code",
   "execution_count": 10,
   "id": "59c75f7d",
   "metadata": {},
   "outputs": [],
   "source": [
    "#stock_data.dropna(inplace=True)\n",
    "\n",
    "X = stock_data[feature_names]\n",
    "y = stock_data['5d_future_close']\n",
    "\n",
    "train_size = int(0.85 * y.shape[0])\n",
    "X_train = X[:train_size]t\n",
    "y_train = y[:train_size]\n",
    "X_test = X[train_size:]\n",
    "y_test = y[train_size:]"
   ]
  },
  {
   "cell_type": "code",
   "execution_count": 12,
   "id": "cbc4ca28",
   "metadata": {
    "scrolled": true
   },
   "outputs": [
    {
     "name": "stdout",
     "output_type": "stream",
     "text": [
      "-2.2622779755600986 {'random_state': 42, 'n_estimators': 200, 'max_features': 4, 'max_depth': 3}\n"
     ]
    }
   ],
   "source": [
    "#grid = {'n_estimators': [200], 'max_depth': [3], 'max_features': [4, 13], 'random_state': [42]}\n",
    "grid = {'n_estimators': [200], 'max_depth': [3], 'max_features': [4, 7], 'random_state': [42]}\n",
    "test_scores = []\n",
    "\n",
    "rf_model = RandomForestRegressor()\n",
    "\n",
    "for g in ParameterGrid(grid):\n",
    "    rf_model.set_params(**g) \n",
    "    rf_model.fit(X_train, y_train)\n",
    "    test_scores.append(rf_model.score(X_test, y_test))\n",
    "\n",
    "best_index = np.argmax(test_scores)\n",
    "print(test_scores[best_index], ParameterGrid(grid)[best_index])"
   ]
  },
  {
   "cell_type": "code",
   "execution_count": 13,
   "id": "5cc2cbe5",
   "metadata": {},
   "outputs": [
    {
     "name": "stdout",
     "output_type": "stream",
     "text": [
      "Predicting base on: \n",
      "['ma14', 'rsi14', 'ma30', 'rsi30', 'ma50', 'rsi50', 'Volume_1d_change']\n"
     ]
    }
   ],
   "source": [
    "print('Predicting base on: ')\n",
    "print(feature_names)"
   ]
  },
  {
   "cell_type": "code",
   "execution_count": 14,
   "id": "647e8fc6",
   "metadata": {},
   "outputs": [
    {
     "name": "stdout",
     "output_type": "stream",
     "text": [
      "MA: Moving Average \n",
      "RSI: Relative Strength Index\n"
     ]
    }
   ],
   "source": [
    "print('MA: Moving Average', '\\nRSI: Relative Strength Index')"
   ]
  },
  {
   "cell_type": "code",
   "execution_count": 15,
   "id": "3df9528d",
   "metadata": {},
   "outputs": [
    {
     "data": {
      "image/png": "[encoded data removed]",
      "text/plain": [
       "<Figure size 432x288 with 1 Axes>"
      ]
     },
     "metadata": {
      "needs_background": "light"
     },
     "output_type": "display_data"
    }
   ],
   "source": [
    "rf_model = RandomForestRegressor(n_estimators=200, max_depth=3, max_features=4, random_state=42)\n",
    "rf_model.fit(X_train, y_train)\n",
    "\n",
    "y_pred = rf_model.predict(X_test)\n",
    "\n",
    "y_pred_series = pd.Series(y_pred, index=y_test.index)\n",
    "y_pred_series.plot()\n",
    "plt.ylabel(\"Predicted 5 Day Close Price\")\n",
    "plt.show()"
   ]
  },
  {
   "cell_type": "code",
   "execution_count": 16,
   "id": "8f0ea9d1",
   "metadata": {},
   "outputs": [
    {
     "data": {
      "image/png": "[encoded data removed]",
      "text/plain": [
       "<Figure size 432x288 with 1 Axes>"
      ]
     },
     "metadata": {
      "needs_background": "light"
     },
     "output_type": "display_data"
    }
   ],
   "source": [
    "stock_data['Close'].plot()\n",
    "plt.ylabel(\"Close Prices\")\n",
    "plt.xlim([\n",
    "    '2021-09-01','2021-12-15'\n",
    "])\n",
    "plt.ylim([3100, 3700])\n",
    "plt.show()"
   ]
  },
  {
   "cell_type": "code",
   "execution_count": 17,
   "id": "43d4eb67",
   "metadata": {},
   "outputs": [
    {
     "name": "stdout",
     "output_type": "stream",
     "text": [
      "Mean Absolute Error: 152.33032306450013\n",
      "Mean Squared Error: 35169.84295837162\n",
      "Root Mean Squared Error: 187.53624438590964\n"
     ]
    }
   ],
   "source": [
    "print('Mean Absolute Error:', metrics.mean_absolute_error(y_test, y_pred))\n",
    "print('Mean Squared Error:', metrics.mean_squared_error(y_test, y_pred))\n",
    "print('Root Mean Squared Error:', np.sqrt(metrics.mean_squared_error(y_test, y_pred)))"
   ]
  },
  {
   "cell_type": "code",
   "execution_count": 18,
   "id": "d31af63c",
   "metadata": {},
   "outputs": [
    {
     "data": {
      "image/png": "[encoded data removed]",
      "text/plain": [
       "<Figure size 432x288 with 1 Axes>"
      ]
     },
     "metadata": {
      "needs_background": "light"
     },
     "output_type": "display_data"
    }
   ],
   "source": [
    "importances = rf_model.feature_importances_\n",
    "sorted_index = np.argsort(importances)[::-1]\n",
    "x_values = range(len(importances))\n",
    "labels = np.array(feature_names)[sorted_index]\n",
    "plt.bar(x_values, importances[sorted_index], tick_label=labels)\n",
    "plt.xticks(rotation=90)\n",
    "plt.show()"
   ]
  },
  {
   "cell_type": "code",
   "execution_count": null,
   "id": "31aeb1ae",
   "metadata": {},
   "outputs": [],
   "source": []
  }
 ],
 "metadata": {
  "kernelspec": {
   "display_name": "Python 3",
   "language": "python",
   "name": "python3"
  },
  "language_info": {
   "codemirror_mode": {
    "name": "ipython",
    "version": 3
   },
   "file_extension": ".py",
   "mimetype": "text/x-python",
   "name": "python",
   "nbconvert_exporter": "python",
   "pygments_lexer": "ipython3",
   "version": "3.7.10"
  }
 },
 "nbformat": 4,
 "nbformat_minor": 5
}
